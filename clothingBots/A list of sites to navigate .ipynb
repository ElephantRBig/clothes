{
 "cells": [
  {
   "cell_type": "code",
   "execution_count": 1,
   "metadata": {},
   "outputs": [],
   "source": [
    "import pandas as pd"
   ]
  },
  {
   "cell_type": "code",
   "execution_count": 13,
   "metadata": {},
   "outputs": [],
   "source": [
    "targetSitesList = ['Adidas', 'Nike', 'Supreme','Dover Street Market',\\\n",
    "                  'Kith', 'Bodega', 'Undefeated', 'Cactus Plant Flea Market',\\\n",
    "                  'Travis Scott', 'Palace', 'Off White', 'Ssense', 'Hibbett', 'OVO',\\\n",
    "                    'Bape', 'Juicestore']"
   ]
  },
  {
   "cell_type": "code",
   "execution_count": 14,
   "metadata": {},
   "outputs": [],
   "source": [
    "targetSitesDict = {'Adidas (Canada)': 'https://www.adidas.ca/en',\n",
    "                  'Nike (American)': 'https://www.nike.com/',\n",
    "                  'Supreme': 'https://www.supremenewyork.com/',\n",
    "                  'Dover Street Market': 'https://www.doverstreetmarket.com/',\n",
    "                  'Kith': 'https://kith.com/',\n",
    "                  'Bodega': 'https://bdgastore.com/',\n",
    "                  'Undefeated': 'https://undefeated.com/',\n",
    "                  'Cactus Plant Flea Market': 'https://cactusplantfleamarket.com/',\n",
    "                 'Travis Scott': 'https://jackboys.travisscott.com/',\n",
    "                 'Palace': 'https://shop-usa.palaceskateboards.com/',\n",
    "                 'Off White': 'https://www.off---white.com/en/IT',\n",
    "                 'Ssense': 'https://www.ssense.com/en-ca',\n",
    "                 'Hibbett': 'https://www.hibbett.com/',\n",
    "                     'OVO': 'https://ca.octobersveryown.com/',\n",
    "                     'Bape': 'https://bape.com/index/',\n",
    "                  'Juice Store':'https://juicestore.com/'}"
   ]
  },
  {
   "cell_type": "code",
   "execution_count": 15,
   "metadata": {},
   "outputs": [
    {
     "data": {
      "text/plain": [
       "dict_keys(['Adidas (Canada)', 'Nike (American)', 'Supreme', 'Dover Street Market', 'Kith', 'Bodega', 'Undefeated', 'Cactus Plant Flea Market', 'Travis Scott', 'Palace', 'Off White', 'Ssense', 'Hibbett', 'OVO', 'Bape'])"
      ]
     },
     "execution_count": 15,
     "metadata": {},
     "output_type": "execute_result"
    }
   ],
   "source": [
    "targetSitesDict.keys()"
   ]
  },
  {
   "cell_type": "code",
   "execution_count": null,
   "metadata": {},
   "outputs": [],
   "source": []
  },
  {
   "cell_type": "code",
   "execution_count": null,
   "metadata": {},
   "outputs": [],
   "source": []
  }
 ],
 "metadata": {
  "kernelspec": {
   "display_name": "Python 3",
   "language": "python",
   "name": "python3"
  },
  "language_info": {
   "codemirror_mode": {
    "name": "ipython",
    "version": 3
   },
   "file_extension": ".py",
   "mimetype": "text/x-python",
   "name": "python",
   "nbconvert_exporter": "python",
   "pygments_lexer": "ipython3",
   "version": "3.7.3"
  }
 },
 "nbformat": 4,
 "nbformat_minor": 2
}
