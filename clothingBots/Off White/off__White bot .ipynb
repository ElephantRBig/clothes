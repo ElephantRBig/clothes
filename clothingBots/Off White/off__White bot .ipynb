{
 "cells": [
  {
   "cell_type": "code",
   "execution_count": 1,
   "metadata": {},
   "outputs": [
    {
     "name": "stdout",
     "output_type": "stream",
     "text": [
      "What is your email for Kith?carlosr03@gmail.com\n",
      "What is your password Kith?anthropology1\n"
     ]
    }
   ],
   "source": [
    "## Off___White\n",
    "#Beautiful Soup is used for parsing the html code and finding elements within it to properly extract key pieces of data\n",
    "from bs4 import BeautifulSoup as soup\n",
    "#Im using splinter to navigate the browser with an automated testing system, logging in, click buttons, and such...\n",
    "from splinter import Browser\n",
    "# Importing Pandas to read the CSV files\n",
    "import pandas as pd\n",
    "#==== May not need whatever is below =====\n",
    "# Importing date-time\n",
    "import datetime as datetime\n",
    "\n",
    "# importing time so Python can sleep, making net32 think we are not launching a denial of service attack\n",
    "import time \n",
    "\n",
    "# The python event scheduler\n",
    "import schedule \n",
    "\n",
    "\n",
    "### Eastern Time Class ###\n",
    "\n",
    "class EST5EDT(datetime.tzinfo):\n",
    "\n",
    "    def utcoffset(self, dt):\n",
    "        return datetime.timedelta(hours=-5) + self.dst(dt)\n",
    "\n",
    "    def dst(self, dt):\n",
    "        d = datetime.datetime(dt.year, 3, 8)        #2nd Sunday in March\n",
    "        self.dston = d + datetime.timedelta(days=6-d.weekday())\n",
    "        d = datetime.datetime(dt.year, 11, 1)       #1st Sunday in Nov\n",
    "        self.dstoff = d + datetime.timedelta(days=6-d.weekday())\n",
    "        if self.dston <= dt.replace(tzinfo=None) < self.dstoff:\n",
    "            return datetime.timedelta(hours=1)\n",
    "        else:\n",
    "            return datetime.timedelta(0)\n",
    "        \n",
    "###################################\n",
    "\n",
    "executable_path = {'executable_path':'chromedriver.exe'}\n",
    "browser = Browser('chrome',**executable_path, headless = False)\n",
    "\n",
    "## Enter your credentials \n",
    "username = input(\"What is your email for Kith?\")\n",
    "password = input(\"What is your password Kith?\")"
   ]
  },
  {
   "cell_type": "code",
   "execution_count": 2,
   "metadata": {},
   "outputs": [],
   "source": [
    "## Setting up the URL to enter Kith's website \n",
    "url = \"https://www.off---white.com/en/CA\"\n",
    "\n",
    "## Navigating the bot to the url using the visit() \n",
    "browser.visit(url)\n",
    "\n",
    "# Rendering the HTML Shop page \n",
    "html = browser.html\n",
    "page_soup = soup(html, 'html.parser')\n",
    "\n",
    "## Navigating to the account-login page to fill in username/email and password\n"
   ]
  },
  {
   "cell_type": "code",
   "execution_count": null,
   "metadata": {},
   "outputs": [],
   "source": []
  }
 ],
 "metadata": {
  "kernelspec": {
   "display_name": "Python 3",
   "language": "python",
   "name": "python3"
  },
  "language_info": {
   "codemirror_mode": {
    "name": "ipython",
    "version": 3
   },
   "file_extension": ".py",
   "mimetype": "text/x-python",
   "name": "python",
   "nbconvert_exporter": "python",
   "pygments_lexer": "ipython3",
   "version": "3.7.3"
  }
 },
 "nbformat": 4,
 "nbformat_minor": 2
}
